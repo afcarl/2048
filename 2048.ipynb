{
 "cells": [
  {
   "cell_type": "code",
   "execution_count": 5,
   "metadata": {
    "collapsed": true
   },
   "outputs": [],
   "source": [
    "# %load ~/helpers.py\n",
    "import matplotlib.pyplot as plt\n",
    "from jupyterthemes import jtplot\n",
    "import seaborn as sns\n",
    "import numpy as np\n",
    "import warnings\n",
    "warnings.filterwarnings(\"ignore\", module=\"matplotlib\")\n",
    "\n",
    "# Styles\n",
    "jtplot.style('oceans16')\n",
    "jtplot.style('grade3', context='paper', fscale=1.4)\n",
    "jtplot.figsize(aspect=1.2)\n",
    "jtplot.style(ticks=False, grid=False)\n",
    "\n",
    "# Debug\n",
    "from IPython.core.debugger import set_trace\n"
   ]
  },
  {
   "cell_type": "code",
   "execution_count": 64,
   "metadata": {},
   "outputs": [],
   "source": [
    "size = 4\n",
    "def _slide_left(b, left=True):\n",
    "    \"\"\"Slide left once, without condensing\"\"\"\n",
    "    b = np.copy(b)\n",
    "    for y in range(size):\n",
    "        for x in range(size): # Left side can't slide left\n",
    "            offset = -1 if left else 1\n",
    "            if x+offset < 0 or x+offset >= size:\n",
    "                continue\n",
    "            \n",
    "            left_val = b[y, x+offset]\n",
    "            if left_val == 0: # Only slide if zero to the left\n",
    "                b[y, x+offset] = b[y,x]\n",
    "                b[y,x] = 0 # Leave a zero where we previously were\n",
    "    return b\n",
    "\n",
    "def _condense_left(b, left=True):\n",
    "    \"\"\"Condense iff your direct left side matches you, leaves a zero in previous location\"\"\"\n",
    "    b = np.copy(b)\n",
    "    for y in range(size):\n",
    "        for x in range(size): # Left side can't condense\n",
    "            offset = -1 if left else 1\n",
    "            if x+offset < 0 or x+offset >= size:\n",
    "                continue\n",
    "            left_val = b[y, x+offset]\n",
    "            if left_val ==  b[y,x]:\n",
    "                b[y, x+offset] = left_val * 2\n",
    "                b[y,x] = 0 # Leave a zero where we previously were            \n",
    "    return b\n",
    "\n",
    "def _slide_then_condense(b, left=True):\n",
    "    \"\"\"Takes a 4x4 matrix and shifts all values to the left, condensing once\"\"\"\n",
    "    for _ in range(size): # Slide all our elements\n",
    "        b = _slide_left(b, left)\n",
    "    b = _condense_left(b, left)\n",
    "    for _ in range(size // 2): # Again slide all our elements that might now be free\n",
    "        b = _slide_left(b, left)    \n",
    "    return b\n",
    "\n",
    "def left(b):\n",
    "    return _slide_then_condense(b, True)\n",
    "\n",
    "def right(b):\n",
    "    return _slide_then_condense(b, False)\n"
   ]
  },
  {
   "cell_type": "code",
   "execution_count": 61,
   "metadata": {},
   "outputs": [],
   "source": [
    "# Test condensing\n",
    "full_top_row = np.zeros([4,4])\n",
    "full_top_row[0,:] = 1\n",
    "\n",
    "condensed = np.zeros([4,4])\n",
    "condensed[0,0] = 2\n",
    "condensed[0,1] = 2\n",
    "\n",
    "np.testing.assert_array_equal(left(full_top_row), condensed)\n",
    "\n",
    "# Test condensing three\n",
    "three_top = np.zeros([4,4])\n",
    "three_top[0,:-1] = 1\n",
    "\n",
    "condensed = np.zeros([4,4])\n",
    "condensed[0,0] = 2\n",
    "condensed[0,1] = 1\n",
    "np.testing.assert_array_equal(left(three_top), condensed)\n",
    "\n",
    "# Test 4 2 2 => 4 4\n",
    "four_two_two = np.zeros([4,4])\n",
    "four_two_two[0,:-1] = 2\n",
    "four_two_two[0,0] = 4\n",
    "\n",
    "condensed = np.zeros([4,4])\n",
    "condensed[0,0] = 4\n",
    "condensed[0,1] = 4\n",
    "np.testing.assert_array_equal(left(four_two_two), condensed)\n"
   ]
  },
  {
   "cell_type": "code",
   "execution_count": 62,
   "metadata": {},
   "outputs": [],
   "source": [
    "# Test empty\n",
    "empty = np.zeros([4,4])\n",
    "np.testing.assert_array_equal(left(empty), empty)\n",
    "\n",
    "# Test basic sliding movement\n",
    "right_one = np.zeros([4,4])\n",
    "right_one[0,3] = 1\n",
    "\n",
    "left_one = np.zeros([4,4])\n",
    "left_one[0,0] = 1\n",
    "\n",
    "np.testing.assert_array_equal(left(left_one), left_one)\n",
    "np.testing.assert_array_equal(left(right_one), left_one)\n",
    "\n",
    "# Test multiple rows\n",
    "right_ones = np.zeros([4,4])\n",
    "right_ones[0,3] = 1\n",
    "right_ones[3,3] = 1\n",
    "left_ones = np.zeros([4,4])\n",
    "left_ones[0,0] = 1\n",
    "left_ones[3,0] = 1\n",
    "\n",
    "np.testing.assert_array_equal(left(left_ones), left_ones)\n",
    "np.testing.assert_array_equal(left(right_ones), left_ones)\n"
   ]
  },
  {
   "cell_type": "code",
   "execution_count": 67,
   "metadata": {},
   "outputs": [
    {
     "name": "stdout",
     "output_type": "stream",
     "text": [
      "[[ 1.  1.  1.  1.]\n",
      " [ 1.  1.  1.  1.]\n",
      " [ 1.  1.  1.  1.]\n",
      " [ 1.  1.  1.  1.]]\n",
      "\n",
      "left\n",
      "[[ 2.  2.  0.  0.]\n",
      " [ 2.  2.  0.  0.]\n",
      " [ 2.  2.  0.  0.]\n",
      " [ 2.  2.  0.  0.]]\n",
      "\n",
      "left\n",
      "[[ 4.  0.  0.  0.]\n",
      " [ 4.  0.  0.  0.]\n",
      " [ 4.  0.  0.  0.]\n",
      " [ 4.  0.  0.  0.]]\n",
      "\n",
      "right\n",
      "[[ 0.  0.  0.  4.]\n",
      " [ 0.  0.  0.  4.]\n",
      " [ 0.  0.  0.  4.]\n",
      " [ 0.  0.  0.  4.]]\n"
     ]
    }
   ],
   "source": [
    "ones = np.ones([4,4])\n",
    "print(ones)\n",
    "\n",
    "print()\n",
    "print(\"left\")\n",
    "print(left(ones))\n",
    "\n",
    "print()\n",
    "print(\"left\")\n",
    "print(left(left(ones)))\n",
    "\n",
    "\n",
    "print()\n",
    "print(\"right\")\n",
    "print(right(left(left(ones))))"
   ]
  },
  {
   "cell_type": "code",
   "execution_count": null,
   "metadata": {
    "collapsed": true
   },
   "outputs": [],
   "source": []
  },
  {
   "cell_type": "code",
   "execution_count": null,
   "metadata": {
    "collapsed": true
   },
   "outputs": [],
   "source": []
  }
 ],
 "metadata": {
  "kernelspec": {
   "display_name": "Python 3",
   "language": "python",
   "name": "python3"
  },
  "language_info": {
   "codemirror_mode": {
    "name": "ipython",
    "version": 3
   },
   "file_extension": ".py",
   "mimetype": "text/x-python",
   "name": "python",
   "nbconvert_exporter": "python",
   "pygments_lexer": "ipython3",
   "version": "3.5.2"
  }
 },
 "nbformat": 4,
 "nbformat_minor": 2
}
